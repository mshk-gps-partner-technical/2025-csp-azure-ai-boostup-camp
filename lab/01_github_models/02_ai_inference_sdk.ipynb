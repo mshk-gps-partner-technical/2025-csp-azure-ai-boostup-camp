{
 "cells": [
  {
   "cell_type": "markdown",
   "metadata": {},
   "source": [
    "# Psuedo Prompt sample"
   ]
  },
  {
   "cell_type": "markdown",
   "metadata": {},
   "source": [
    "Reference: \n",
    "https://arxiv.org/pdf/2401.10065\n",
    "https://medium.com/javascript-scene/sudolang-a-powerful-pseudocode-programming-language-for-llms-d64d42aa719b"
   ]
  },
  {
   "cell_type": "code",
   "execution_count": 2,
   "metadata": {},
   "outputs": [
    {
     "data": {
      "text/plain": [
       "True"
      ]
     },
     "execution_count": 2,
     "metadata": {},
     "output_type": "execute_result"
    }
   ],
   "source": [
    "import os\n",
    "from dotenv import load_dotenv\n",
    "from azure.ai.inference import ChatCompletionsClient\n",
    "from azure.ai.inference.models import (\n",
    "    SystemMessage,\n",
    "    UserMessage\n",
    ")\n",
    "from azure.core.credentials import AzureKeyCredential\n",
    "\n",
    "load_dotenv()"
   ]
  },
  {
   "cell_type": "code",
   "execution_count": 3,
   "metadata": {},
   "outputs": [
    {
     "name": "stdout",
     "output_type": "stream",
     "text": [
      "```json\n",
      "[\n",
      "    {\n",
      "        \"constraint\": \"SalaryFloor\",\n",
      "        \"employee\": {\n",
      "            \"name\": \"joe\",\n",
      "            \"salary\": \"$110,000\"\n",
      "        },\n",
      "        \"raise\": \"$10,000\"\n",
      "    }\n",
      "]\n",
      "```\n"
     ]
    }
   ],
   "source": [
    "endpoint = \"https://models.inference.ai.azure.com\"\n",
    "model_name = \"gpt-4o\"\n",
    "token = os.environ[\"GITHUB_TOKEN\"]\n",
    "\n",
    "client = ChatCompletionsClient(\n",
    "    endpoint=endpoint,\n",
    "    credential=AzureKeyCredential(token),\n",
    ")\n",
    "\n",
    "response = client.complete(\n",
    "    messages=[\n",
    "        SystemMessage(content=\"\"\"\n",
    "                    // Program: MinimumSalary\n",
    "                    minimumSalary = $100,000\n",
    "\n",
    "                    constraint SalaryFloor {\n",
    "                    for each employee {\n",
    "                        employee.salary >= $minimumSalary;\n",
    "                        onChange {\n",
    "                        emit({ constraint: 'SalaryFloor', employee: employee, raise: constraintDifference })\n",
    "                        }\n",
    "                    }\n",
    "                    }\n",
    "\n",
    "                    joe = employee({ name: 'joe', salary: $110,000 })\n",
    "\n",
    "                    minimumSalary = $120,000;\n",
    "\n",
    "                    log(joe.salary) // Output: 120,000\"\"\"),\n",
    "        UserMessage (\n",
    "            content=\"run(MinimumSalary) |> list(events) |> log:format=json\"\n",
    "        ),\n",
    "    ],\n",
    "    model=model_name,\n",
    "    temperature=1.,\n",
    "    max_tokens=4096,\n",
    "    top_p=1.\n",
    ")\n",
    "\n",
    "print(response.choices[0].message.content)"
   ]
  }
 ],
 "metadata": {
  "kernelspec": {
   "display_name": "Python 3",
   "language": "python",
   "name": "python3"
  },
  "language_info": {
   "codemirror_mode": {
    "name": "ipython",
    "version": 3
   },
   "file_extension": ".py",
   "mimetype": "text/x-python",
   "name": "python",
   "nbconvert_exporter": "python",
   "pygments_lexer": "ipython3",
   "version": "3.12.8"
  }
 },
 "nbformat": 4,
 "nbformat_minor": 2
}
