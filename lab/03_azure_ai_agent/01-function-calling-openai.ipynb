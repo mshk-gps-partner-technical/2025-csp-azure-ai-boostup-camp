{
 "cells": [
  {
   "cell_type": "markdown",
   "metadata": {},
   "source": [
    "# Introduction to Azure OpenAI Function Calling\n"
   ]
  },
  {
   "cell_type": "markdown",
   "metadata": {},
   "source": [
    "## Objective\n",
    "\n",
    "This notebook demonstrates the following:\n",
    "\n",
    "1. Generative AI\n",
    "1. Function calling\n"
   ]
  },
  {
   "cell_type": "markdown",
   "metadata": {},
   "source": [
    "## Time\n",
    "\n",
    "You should expect to spend 2 minutes running this sample.\n"
   ]
  },
  {
   "cell_type": "markdown",
   "metadata": {},
   "source": [
    "## About this example\n",
    "\n",
    "The objective of the provided Python file is to learn about Azure OpenAI Function Calling using the Azure OpenAI API.\n"
   ]
  },
  {
   "cell_type": "markdown",
   "metadata": {},
   "source": [
    "## Installation\n",
    "\n",
    "Refer to the README.md file in this folder for installation instructions.\n"
   ]
  },
  {
   "cell_type": "markdown",
   "metadata": {},
   "source": [
    "## Parameters\n"
   ]
  },
  {
   "cell_type": "code",
   "execution_count": 59,
   "metadata": {},
   "outputs": [],
   "source": [
    "import os\n",
    "import json\n",
    "\n",
    "from typing import Any, Callable, Dict\n",
    "\n",
    "import pandas as pd\n",
    "from openai import AzureOpenAI\n",
    "from dotenv import load_dotenv\n",
    "from IPython.display import display, HTML\n",
    "\n",
    "from sales_data import SalesData\n",
    "\n",
    "load_dotenv(override=True)\n",
    "\n",
    "api_endpoint = os.getenv(\"OPENAI_URI\")\n",
    "api_key = os.getenv(\"OPENAI_KEY\")\n",
    "api_version = os.getenv(\"OPENAI_VERSION\")\n",
    "api_deployment_name = os.getenv(\"MODEL_DEPLOYMENT_NAME\")\n",
    "\n",
    "system_message = None"
   ]
  },
  {
   "cell_type": "code",
   "execution_count": 60,
   "metadata": {},
   "outputs": [
    {
     "name": "stdout",
     "output_type": "stream",
     "text": [
      "Database connection opened in read-only mode.\n",
      "Table sales_data: Columns: id: INTEGER, main_category: TEXT, product_type: TEXT, revenue: REAL, shipping_cost: REAL, number_of_orders: INTEGER, year: INTEGER, month: INTEGER, discount: INTEGER, region: TEXT, month_date: TEXT\n",
      "Regions: AFRICA, ASIA-PACIFIC, CHINA, EUROPE, LATIN AMERICA, MIDDLE EAST, NORTH AMERICA\n",
      "Product Types: ACCESSORIES, AVALANCHE SAFETY, BACKPACKING TENTS, BINDINGS, BIVYS, BOULDERING PADS, CANOES, CARABINERS & QUICKDRAWS, CARRY-ONS, CHALK & CHALK BAGS, CLIMBING SHOES, COOKWARE, CRAMPONS, DAYPACKS, DRY BAGS, DUFFEL BAGS, EXTENDED TRIP PACKS, EYE MASKS, FAMILY CAMPING TENTS, FIRST AID KITS, FISHING BAIT, FISHING HOOKS, FISHING LINE, FOOD & NUTRITION, FOOTWEAR ACCESSORIES, FOOTWEAR CARE PRODUCTS, GLOVES & HATS, GLOVES & MITTENS, GOGGLES, HAMMOCKS, HARNESSES, HELMETS, HIKING BOOTS, HYDRATION PACKS, ICE AXES, INSULATED FOOTWEAR, JACKETS & VESTS, KAYAKS, LINERS, LUGGAGE LOCKS, MOUNTAINEERING BOOTS, NAVIGATION TOOLS, OTHER, OUTERWEAR, OVERNIGHT PACKS, PACKING ORGANIZERS, PADDLES, PANTS & SHORTS, POLES, RASH GUARDS, RODS & REELS, ROPES & SLINGS, SAFETY GEAR, SANDALS, SECURITY, SHELTERS & TARPS, SHIRTS, SKI BINDINGS, SKI BOOTS, SKI POLES, SKIS, SLACKLINES, SLEEPING BAGS, SLEEPING PADS, SNORKELING & DIVING GEAR, SNOWBOARD BOOTS, SNOWBOARDS, SNOWSHOES, STOVES, SURF ACCESSORIES, SURFBOARDS, SWIMWEAR, TACKLE, TECH ORGANIZERS, THERMAL UNDERWEAR, TOPS, TRAIL SHOES, TRAINING EQUIPMENT, TRAVEL ACCESSORIES, TRAVEL BACKPACKS, TRAVEL PILLOWS, UNDERWEAR & BASE LAYERS, UTENSILS & ACCESSORIES, WADERS, WATER FILTRATION & PURIFICATION, WETSUITS, WINTER BOOTS\n",
      "Product Categories: APPAREL, CAMPING & HIKING, CLIMBING, FISHING GEAR, FOOTWEAR, TRAVEL, WATER GEAR, WINTER SPORTS\n",
      "Reporting Years: 2022, 2023, 2024\n"
     ]
    }
   ],
   "source": [
    "sales_data = SalesData()\n",
    "sales_data.connect()\n",
    "db_info = sales_data.get_database_info()\n",
    "print(db_info)"
   ]
  },
  {
   "cell_type": "code",
   "execution_count": 61,
   "metadata": {},
   "outputs": [],
   "source": [
    "def log_message(message: str):\n",
    "    display(\n",
    "        HTML(f'<span style=\"color: red;\"><strong>{message}</strong></span>'))"
   ]
  },
  {
   "cell_type": "code",
   "execution_count": 62,
   "metadata": {},
   "outputs": [],
   "source": [
    "def print_in_color(key, value):\n",
    "    display(HTML(f\"<span style='color: green;font-weight: bold;font-size: medium;'>{key}</span> \"\n",
    "            f\"<span style='color: blue;font-weight: bold;font-size: medium;'>{value}</span>\"))"
   ]
  },
  {
   "cell_type": "code",
   "execution_count": 63,
   "metadata": {},
   "outputs": [],
   "source": [
    "def display_wrapped(message: str):\n",
    "    wrapped_content = f'<pre style=\"white-space: pre-wrap; word-wrap: break-word;\">{message}</pre>'\n",
    "    display(HTML(wrapped_content))"
   ]
  },
  {
   "cell_type": "markdown",
   "metadata": {},
   "source": [
    "### Create an AzureOpenAI client\n"
   ]
  },
  {
   "cell_type": "code",
   "execution_count": 64,
   "metadata": {},
   "outputs": [],
   "source": [
    "client = AzureOpenAI(api_key=api_key, api_version=api_version,\n",
    "                     azure_endpoint=api_endpoint)"
   ]
  },
  {
   "cell_type": "markdown",
   "metadata": {},
   "source": [
    "### Define the Assistant tools\n",
    "\n",
    "The tools list defines the tools that the OpenAI Chat Completion will look for when generating a response. It's then up to the application to decide how to use the response. In this example corresponding Python functions are defined for each tool and the response is passed to the appropriate function."
   ]
  },
  {
   "cell_type": "code",
   "execution_count": 65,
   "metadata": {},
   "outputs": [],
   "source": [
    "tools_list = [\n",
    "    {\n",
    "        \"type\": \"function\",\n",
    "        \"function\": {\n",
    "            \"name\": \"fetch_sales_data_using_sqlite_query\",\n",
    "            \"description\": \"This function is used to answer user questions about Contoso sales data by executing SQLite queries against the database.\",\n",
    "            \"parameters\": {\n",
    "                \"type\": \"object\",\n",
    "                \"properties\": {\n",
    "                    \"query\": {\n",
    "                        \"type\": \"string\",\n",
    "                        \"description\": f\"\"\"\n",
    "                            The input should be a well-formed SQLite query to extract information based on the user's question.\n",
    "                            The query result will be returned as plain text, not in JSON format.\n",
    "                        \"\"\",\n",
    "                    }\n",
    "                },\n",
    "                \"required\": [\"query\"],\n",
    "                \"additionalProperties\": False,\n",
    "            },\n",
    "        },\n",
    "    },\n",
    "]"
   ]
  },
  {
   "cell_type": "code",
   "execution_count": 66,
   "metadata": {},
   "outputs": [],
   "source": [
    "function_map: Dict[str, Callable[[Any], pd.DataFrame]] = {\n",
    "    \"fetch_sales_data_using_sqlite_query\": lambda args: sales_data.fetch_sales_data_using_sqlite_query_pandas(args[\"query\"]),\n",
    "}"
   ]
  },
  {
   "cell_type": "markdown",
   "metadata": {},
   "source": [
    "### Process Function calling\n",
    "\n",
    "Responsible for calling the appropriate function based on the tool detected in the response. The function is called with the response and the tool as arguments.\n"
   ]
  },
  {
   "cell_type": "code",
   "execution_count": 67,
   "metadata": {},
   "outputs": [],
   "source": [
    "def call_functions(tool_calls) -> None:\n",
    "\n",
    "    for tool_call in tool_calls:\n",
    "        func_name = tool_call.function.name\n",
    "        arguments = json.loads(tool_call.function.arguments)\n",
    "\n",
    "        print_in_color(\"Executing function tool call\", \"\")\n",
    "        print_in_color(\"Function Name:\", func_name)\n",
    "        print_in_color(\"Arguments:\", arguments)\n",
    "\n",
    "        function = function_map.get(func_name)\n",
    "        if not function:\n",
    "            raise ValueError(f\"Unknown function: {func_name}\")\n",
    "\n",
    "        result_df = function(arguments)\n",
    "        display(result_df)"
   ]
  },
  {
   "cell_type": "markdown",
   "metadata": {},
   "source": [
    "## Instructions for role system assignment\n",
    "\n",
    "Defines the system message for the role system assignment.\n",
    "\n"
   ]
  },
  {
   "cell_type": "code",
   "execution_count": 68,
   "metadata": {},
   "outputs": [
    {
     "name": "stdout",
     "output_type": "stream",
     "text": [
      "('You are a sales analysis assistant for Contoso. Please be polite, professional, helpful, and friendly. Use the `fetch_sales_data_using_sqlite_query` function to execute sales data queries, defaulting to aggregated data unless a detailed breakdown is requested. The function returns JSON-formatted results. Refer to the Contoso sales database schema: Table sales_data: Columns: id: INTEGER, main_category: TEXT, product_type: TEXT, revenue: REAL, shipping_cost: REAL, number_of_orders: INTEGER, year: INTEGER, month: INTEGER, discount: INTEGER, region: TEXT, month_date: TEXT\\nRegions: AFRICA, ASIA-PACIFIC, CHINA, EUROPE, LATIN AMERICA, MIDDLE EAST, NORTH AMERICA\\nProduct Types: ACCESSORIES, AVALANCHE SAFETY, BACKPACKING TENTS, BINDINGS, BIVYS, BOULDERING PADS, CANOES, CARABINERS & QUICKDRAWS, CARRY-ONS, CHALK & CHALK BAGS, CLIMBING SHOES, COOKWARE, CRAMPONS, DAYPACKS, DRY BAGS, DUFFEL BAGS, EXTENDED TRIP PACKS, EYE MASKS, FAMILY CAMPING TENTS, FIRST AID KITS, FISHING BAIT, FISHING HOOKS, FISHING LINE, FOOD & NUTRITION, FOOTWEAR ACCESSORIES, FOOTWEAR CARE PRODUCTS, GLOVES & HATS, GLOVES & MITTENS, GOGGLES, HAMMOCKS, HARNESSES, HELMETS, HIKING BOOTS, HYDRATION PACKS, ICE AXES, INSULATED FOOTWEAR, JACKETS & VESTS, KAYAKS, LINERS, LUGGAGE LOCKS, MOUNTAINEERING BOOTS, NAVIGATION TOOLS, OTHER, OUTERWEAR, OVERNIGHT PACKS, PACKING ORGANIZERS, PADDLES, PANTS & SHORTS, POLES, RASH GUARDS, RODS & REELS, ROPES & SLINGS, SAFETY GEAR, SANDALS, SECURITY, SHELTERS & TARPS, SHIRTS, SKI BINDINGS, SKI BOOTS, SKI POLES, SKIS, SLACKLINES, SLEEPING BAGS, SLEEPING PADS, SNORKELING & DIVING GEAR, SNOWBOARD BOOTS, SNOWBOARDS, SNOWSHOES, STOVES, SURF ACCESSORIES, SURFBOARDS, SWIMWEAR, TACKLE, TECH ORGANIZERS, THERMAL UNDERWEAR, TOPS, TRAIL SHOES, TRAINING EQUIPMENT, TRAVEL ACCESSORIES, TRAVEL BACKPACKS, TRAVEL PILLOWS, UNDERWEAR & BASE LAYERS, UTENSILS & ACCESSORIES, WADERS, WATER FILTRATION & PURIFICATION, WETSUITS, WINTER BOOTS\\nProduct Categories: APPAREL, CAMPING & HIKING, CLIMBING, FISHING GEAR, FOOTWEAR, TRAVEL, WATER GEAR, WINTER SPORTS\\nReporting Years: 2022, 2023, 2024. ', \"If a question is not related to Contoso sales data or you cannot answer the question, then simply say, 'I can't answer that question. Please contact IT for more assistance.' If the user asks for help or says 'help', provide a list of sample questions that you can answer.\")\n"
     ]
    }
   ],
   "source": [
    "system_message = (\n",
    "    \"You are a sales analysis assistant for Contoso. \"\n",
    "    \"Please be polite, professional, helpful, and friendly. \"\n",
    "    \"Use the `fetch_sales_data_using_sqlite_query` function to execute sales data queries, defaulting to aggregated data unless a detailed breakdown is requested. The function returns JSON-formatted results. \"\n",
    "    f\"Refer to the Contoso sales database schema: {db_info}. \",\n",
    "    \"If a question is not related to Contoso sales data or you cannot answer the question, \"\n",
    "    \"then simply say, 'I can't answer that question. Please contact IT for more assistance.' \"\n",
    "    \"If the user asks for help or says 'help', provide a list of sample questions that you can answer.\"\n",
    ")\n",
    "print(system_message)"
   ]
  },
  {
   "cell_type": "markdown",
   "metadata": {},
   "source": [
    "## Construct the Assistant and send to Azure OpenAI\n"
   ]
  },
  {
   "cell_type": "code",
   "execution_count": 69,
   "metadata": {},
   "outputs": [],
   "source": [
    "def process_message(question: str):\n",
    "\n",
    "    messages = [{\"role\": \"system\", \"content\": str(system_message)}, {\n",
    "        \"role\": \"user\", \"content\": question}]\n",
    "\n",
    "    try:\n",
    "        response = client.chat.completions.create(\n",
    "            model=api_deployment_name,\n",
    "            messages=messages,\n",
    "            tools=tools_list,\n",
    "            temperature=0.2,\n",
    "            max_tokens=512,\n",
    "        )\n",
    "\n",
    "        response_message = response.choices[0].message\n",
    "        tool_calls = getattr(response_message, \"tool_calls\", [])\n",
    "\n",
    "        if tool_calls:\n",
    "            call_functions(tool_calls)\n",
    "        else:\n",
    "            display_wrapped(response_message.content)\n",
    "\n",
    "    except Exception as e:\n",
    "        log_message(f\"An error occurred: {e}\")"
   ]
  },
  {
   "cell_type": "code",
   "execution_count": 70,
   "metadata": {},
   "outputs": [
    {
     "data": {
      "text/html": [
       "<span style='color: green;font-weight: bold;font-size: medium;'>Executing function tool call</span> <span style='color: blue;font-weight: bold;font-size: medium;'></span>"
      ],
      "text/plain": [
       "<IPython.core.display.HTML object>"
      ]
     },
     "metadata": {},
     "output_type": "display_data"
    },
    {
     "data": {
      "text/html": [
       "<span style='color: green;font-weight: bold;font-size: medium;'>Function Name:</span> <span style='color: blue;font-weight: bold;font-size: medium;'>fetch_sales_data_using_sqlite_query</span>"
      ],
      "text/plain": [
       "<IPython.core.display.HTML object>"
      ]
     },
     "metadata": {},
     "output_type": "display_data"
    },
    {
     "data": {
      "text/html": [
       "<span style='color: green;font-weight: bold;font-size: medium;'>Arguments:</span> <span style='color: blue;font-weight: bold;font-size: medium;'>{'query': \"SELECT SUM(revenue) AS total_revenue FROM sales_data WHERE region = 'AFRICA';\"}</span>"
      ],
      "text/plain": [
       "<IPython.core.display.HTML object>"
      ]
     },
     "metadata": {},
     "output_type": "display_data"
    },
    {
     "data": {
      "text/html": [
       "<div>\n",
       "<style scoped>\n",
       "    .dataframe tbody tr th:only-of-type {\n",
       "        vertical-align: middle;\n",
       "    }\n",
       "\n",
       "    .dataframe tbody tr th {\n",
       "        vertical-align: top;\n",
       "    }\n",
       "\n",
       "    .dataframe thead th {\n",
       "        text-align: right;\n",
       "    }\n",
       "</style>\n",
       "<table border=\"1\" class=\"dataframe\">\n",
       "  <thead>\n",
       "    <tr style=\"text-align: right;\">\n",
       "      <th></th>\n",
       "      <th>total_revenue</th>\n",
       "    </tr>\n",
       "  </thead>\n",
       "  <tbody>\n",
       "    <tr>\n",
       "      <th>0</th>\n",
       "      <td>5227467.0</td>\n",
       "    </tr>\n",
       "  </tbody>\n",
       "</table>\n",
       "</div>"
      ],
      "text/plain": [
       "   total_revenue\n",
       "0      5227467.0"
      ]
     },
     "metadata": {},
     "output_type": "display_data"
    }
   ],
   "source": [
    "process_message(\"What is the revenue for the region of Africa?\")"
   ]
  },
  {
   "cell_type": "code",
   "execution_count": 71,
   "metadata": {},
   "outputs": [
    {
     "data": {
      "text/html": [
       "<span style='color: green;font-weight: bold;font-size: medium;'>Executing function tool call</span> <span style='color: blue;font-weight: bold;font-size: medium;'></span>"
      ],
      "text/plain": [
       "<IPython.core.display.HTML object>"
      ]
     },
     "metadata": {},
     "output_type": "display_data"
    },
    {
     "data": {
      "text/html": [
       "<span style='color: green;font-weight: bold;font-size: medium;'>Function Name:</span> <span style='color: blue;font-weight: bold;font-size: medium;'>fetch_sales_data_using_sqlite_query</span>"
      ],
      "text/plain": [
       "<IPython.core.display.HTML object>"
      ]
     },
     "metadata": {},
     "output_type": "display_data"
    },
    {
     "data": {
      "text/html": [
       "<span style='color: green;font-weight: bold;font-size: medium;'>Arguments:</span> <span style='color: blue;font-weight: bold;font-size: medium;'>{'query': \"SELECT region, SUM(revenue) as total_revenue, year FROM sales_data WHERE year = 2023 AND (region = 'LATIN AMERICA' OR region = 'NORTH AMERICA') GROUP BY region, year;\"}</span>"
      ],
      "text/plain": [
       "<IPython.core.display.HTML object>"
      ]
     },
     "metadata": {},
     "output_type": "display_data"
    },
    {
     "data": {
      "text/html": [
       "<div>\n",
       "<style scoped>\n",
       "    .dataframe tbody tr th:only-of-type {\n",
       "        vertical-align: middle;\n",
       "    }\n",
       "\n",
       "    .dataframe tbody tr th {\n",
       "        vertical-align: top;\n",
       "    }\n",
       "\n",
       "    .dataframe thead th {\n",
       "        text-align: right;\n",
       "    }\n",
       "</style>\n",
       "<table border=\"1\" class=\"dataframe\">\n",
       "  <thead>\n",
       "    <tr style=\"text-align: right;\">\n",
       "      <th></th>\n",
       "      <th>region</th>\n",
       "      <th>total_revenue</th>\n",
       "      <th>year</th>\n",
       "    </tr>\n",
       "  </thead>\n",
       "  <tbody>\n",
       "    <tr>\n",
       "      <th>0</th>\n",
       "      <td>LATIN AMERICA</td>\n",
       "      <td>1693693.0</td>\n",
       "      <td>2023</td>\n",
       "    </tr>\n",
       "    <tr>\n",
       "      <th>1</th>\n",
       "      <td>NORTH AMERICA</td>\n",
       "      <td>5395752.0</td>\n",
       "      <td>2023</td>\n",
       "    </tr>\n",
       "  </tbody>\n",
       "</table>\n",
       "</div>"
      ],
      "text/plain": [
       "          region  total_revenue  year\n",
       "0  LATIN AMERICA      1693693.0  2023\n",
       "1  NORTH AMERICA      5395752.0  2023"
      ]
     },
     "metadata": {},
     "output_type": "display_data"
    }
   ],
   "source": [
    "process_message(\n",
    "    \"What is the revenue for each of the americas for 2023? Be sure to include the year.\")"
   ]
  },
  {
   "cell_type": "code",
   "execution_count": 72,
   "metadata": {},
   "outputs": [
    {
     "data": {
      "text/html": [
       "<span style='color: green;font-weight: bold;font-size: medium;'>Executing function tool call</span> <span style='color: blue;font-weight: bold;font-size: medium;'></span>"
      ],
      "text/plain": [
       "<IPython.core.display.HTML object>"
      ]
     },
     "metadata": {},
     "output_type": "display_data"
    },
    {
     "data": {
      "text/html": [
       "<span style='color: green;font-weight: bold;font-size: medium;'>Function Name:</span> <span style='color: blue;font-weight: bold;font-size: medium;'>fetch_sales_data_using_sqlite_query</span>"
      ],
      "text/plain": [
       "<IPython.core.display.HTML object>"
      ]
     },
     "metadata": {},
     "output_type": "display_data"
    },
    {
     "data": {
      "text/html": [
       "<span style='color: green;font-weight: bold;font-size: medium;'>Arguments:</span> <span style='color: blue;font-weight: bold;font-size: medium;'>{'query': 'SELECT region, SUM(revenue) AS total_revenue FROM sales_data GROUP BY region;'}</span>"
      ],
      "text/plain": [
       "<IPython.core.display.HTML object>"
      ]
     },
     "metadata": {},
     "output_type": "display_data"
    },
    {
     "data": {
      "text/html": [
       "<div>\n",
       "<style scoped>\n",
       "    .dataframe tbody tr th:only-of-type {\n",
       "        vertical-align: middle;\n",
       "    }\n",
       "\n",
       "    .dataframe tbody tr th {\n",
       "        vertical-align: top;\n",
       "    }\n",
       "\n",
       "    .dataframe thead th {\n",
       "        text-align: right;\n",
       "    }\n",
       "</style>\n",
       "<table border=\"1\" class=\"dataframe\">\n",
       "  <thead>\n",
       "    <tr style=\"text-align: right;\">\n",
       "      <th></th>\n",
       "      <th>region</th>\n",
       "      <th>total_revenue</th>\n",
       "    </tr>\n",
       "  </thead>\n",
       "  <tbody>\n",
       "    <tr>\n",
       "      <th>0</th>\n",
       "      <td>AFRICA</td>\n",
       "      <td>5227467.0</td>\n",
       "    </tr>\n",
       "    <tr>\n",
       "      <th>1</th>\n",
       "      <td>ASIA-PACIFIC</td>\n",
       "      <td>5363718.0</td>\n",
       "    </tr>\n",
       "    <tr>\n",
       "      <th>2</th>\n",
       "      <td>CHINA</td>\n",
       "      <td>10540412.0</td>\n",
       "    </tr>\n",
       "    <tr>\n",
       "      <th>3</th>\n",
       "      <td>EUROPE</td>\n",
       "      <td>9990708.0</td>\n",
       "    </tr>\n",
       "    <tr>\n",
       "      <th>4</th>\n",
       "      <td>LATIN AMERICA</td>\n",
       "      <td>5386552.0</td>\n",
       "    </tr>\n",
       "    <tr>\n",
       "      <th>5</th>\n",
       "      <td>MIDDLE EAST</td>\n",
       "      <td>5312519.0</td>\n",
       "    </tr>\n",
       "    <tr>\n",
       "      <th>6</th>\n",
       "      <td>NORTH AMERICA</td>\n",
       "      <td>15986462.0</td>\n",
       "    </tr>\n",
       "  </tbody>\n",
       "</table>\n",
       "</div>"
      ],
      "text/plain": [
       "          region  total_revenue\n",
       "0         AFRICA      5227467.0\n",
       "1   ASIA-PACIFIC      5363718.0\n",
       "2          CHINA     10540412.0\n",
       "3         EUROPE      9990708.0\n",
       "4  LATIN AMERICA      5386552.0\n",
       "5    MIDDLE EAST      5312519.0\n",
       "6  NORTH AMERICA     15986462.0"
      ]
     },
     "metadata": {},
     "output_type": "display_data"
    }
   ],
   "source": [
    "process_message(\"What is the revenue for all regions?\")"
   ]
  },
  {
   "cell_type": "code",
   "execution_count": 73,
   "metadata": {},
   "outputs": [
    {
     "data": {
      "text/html": [
       "<span style='color: green;font-weight: bold;font-size: medium;'>Executing function tool call</span> <span style='color: blue;font-weight: bold;font-size: medium;'></span>"
      ],
      "text/plain": [
       "<IPython.core.display.HTML object>"
      ]
     },
     "metadata": {},
     "output_type": "display_data"
    },
    {
     "data": {
      "text/html": [
       "<span style='color: green;font-weight: bold;font-size: medium;'>Function Name:</span> <span style='color: blue;font-weight: bold;font-size: medium;'>fetch_sales_data_using_sqlite_query</span>"
      ],
      "text/plain": [
       "<IPython.core.display.HTML object>"
      ]
     },
     "metadata": {},
     "output_type": "display_data"
    },
    {
     "data": {
      "text/html": [
       "<span style='color: green;font-weight: bold;font-size: medium;'>Arguments:</span> <span style='color: blue;font-weight: bold;font-size: medium;'>{'query': 'SELECT year, region, SUM(revenue) AS total_revenue FROM sales_data GROUP BY year, region;'}</span>"
      ],
      "text/plain": [
       "<IPython.core.display.HTML object>"
      ]
     },
     "metadata": {},
     "output_type": "display_data"
    },
    {
     "data": {
      "text/html": [
       "<div>\n",
       "<style scoped>\n",
       "    .dataframe tbody tr th:only-of-type {\n",
       "        vertical-align: middle;\n",
       "    }\n",
       "\n",
       "    .dataframe tbody tr th {\n",
       "        vertical-align: top;\n",
       "    }\n",
       "\n",
       "    .dataframe thead th {\n",
       "        text-align: right;\n",
       "    }\n",
       "</style>\n",
       "<table border=\"1\" class=\"dataframe\">\n",
       "  <thead>\n",
       "    <tr style=\"text-align: right;\">\n",
       "      <th></th>\n",
       "      <th>year</th>\n",
       "      <th>region</th>\n",
       "      <th>total_revenue</th>\n",
       "    </tr>\n",
       "  </thead>\n",
       "  <tbody>\n",
       "    <tr>\n",
       "      <th>0</th>\n",
       "      <td>2022</td>\n",
       "      <td>AFRICA</td>\n",
       "      <td>1712309.0</td>\n",
       "    </tr>\n",
       "    <tr>\n",
       "      <th>1</th>\n",
       "      <td>2022</td>\n",
       "      <td>ASIA-PACIFIC</td>\n",
       "      <td>1665948.0</td>\n",
       "    </tr>\n",
       "    <tr>\n",
       "      <th>2</th>\n",
       "      <td>2022</td>\n",
       "      <td>CHINA</td>\n",
       "      <td>3271673.0</td>\n",
       "    </tr>\n",
       "    <tr>\n",
       "      <th>3</th>\n",
       "      <td>2022</td>\n",
       "      <td>EUROPE</td>\n",
       "      <td>3132756.0</td>\n",
       "    </tr>\n",
       "    <tr>\n",
       "      <th>4</th>\n",
       "      <td>2022</td>\n",
       "      <td>LATIN AMERICA</td>\n",
       "      <td>1693568.0</td>\n",
       "    </tr>\n",
       "    <tr>\n",
       "      <th>5</th>\n",
       "      <td>2022</td>\n",
       "      <td>MIDDLE EAST</td>\n",
       "      <td>1712588.0</td>\n",
       "    </tr>\n",
       "    <tr>\n",
       "      <th>6</th>\n",
       "      <td>2022</td>\n",
       "      <td>NORTH AMERICA</td>\n",
       "      <td>4953705.0</td>\n",
       "    </tr>\n",
       "    <tr>\n",
       "      <th>7</th>\n",
       "      <td>2023</td>\n",
       "      <td>AFRICA</td>\n",
       "      <td>1695169.0</td>\n",
       "    </tr>\n",
       "    <tr>\n",
       "      <th>8</th>\n",
       "      <td>2023</td>\n",
       "      <td>ASIA-PACIFIC</td>\n",
       "      <td>1721135.0</td>\n",
       "    </tr>\n",
       "    <tr>\n",
       "      <th>9</th>\n",
       "      <td>2023</td>\n",
       "      <td>CHINA</td>\n",
       "      <td>3457517.0</td>\n",
       "    </tr>\n",
       "    <tr>\n",
       "      <th>10</th>\n",
       "      <td>2023</td>\n",
       "      <td>EUROPE</td>\n",
       "      <td>3460195.0</td>\n",
       "    </tr>\n",
       "    <tr>\n",
       "      <th>11</th>\n",
       "      <td>2023</td>\n",
       "      <td>LATIN AMERICA</td>\n",
       "      <td>1693693.0</td>\n",
       "    </tr>\n",
       "    <tr>\n",
       "      <th>12</th>\n",
       "      <td>2023</td>\n",
       "      <td>MIDDLE EAST</td>\n",
       "      <td>1681687.0</td>\n",
       "    </tr>\n",
       "    <tr>\n",
       "      <th>13</th>\n",
       "      <td>2023</td>\n",
       "      <td>NORTH AMERICA</td>\n",
       "      <td>5395752.0</td>\n",
       "    </tr>\n",
       "    <tr>\n",
       "      <th>14</th>\n",
       "      <td>2024</td>\n",
       "      <td>AFRICA</td>\n",
       "      <td>1819989.0</td>\n",
       "    </tr>\n",
       "    <tr>\n",
       "      <th>15</th>\n",
       "      <td>2024</td>\n",
       "      <td>ASIA-PACIFIC</td>\n",
       "      <td>1976635.0</td>\n",
       "    </tr>\n",
       "    <tr>\n",
       "      <th>16</th>\n",
       "      <td>2024</td>\n",
       "      <td>CHINA</td>\n",
       "      <td>3811222.0</td>\n",
       "    </tr>\n",
       "    <tr>\n",
       "      <th>17</th>\n",
       "      <td>2024</td>\n",
       "      <td>EUROPE</td>\n",
       "      <td>3397757.0</td>\n",
       "    </tr>\n",
       "    <tr>\n",
       "      <th>18</th>\n",
       "      <td>2024</td>\n",
       "      <td>LATIN AMERICA</td>\n",
       "      <td>1999291.0</td>\n",
       "    </tr>\n",
       "    <tr>\n",
       "      <th>19</th>\n",
       "      <td>2024</td>\n",
       "      <td>MIDDLE EAST</td>\n",
       "      <td>1918244.0</td>\n",
       "    </tr>\n",
       "    <tr>\n",
       "      <th>20</th>\n",
       "      <td>2024</td>\n",
       "      <td>NORTH AMERICA</td>\n",
       "      <td>5637005.0</td>\n",
       "    </tr>\n",
       "  </tbody>\n",
       "</table>\n",
       "</div>"
      ],
      "text/plain": [
       "    year         region  total_revenue\n",
       "0   2022         AFRICA      1712309.0\n",
       "1   2022   ASIA-PACIFIC      1665948.0\n",
       "2   2022          CHINA      3271673.0\n",
       "3   2022         EUROPE      3132756.0\n",
       "4   2022  LATIN AMERICA      1693568.0\n",
       "5   2022    MIDDLE EAST      1712588.0\n",
       "6   2022  NORTH AMERICA      4953705.0\n",
       "7   2023         AFRICA      1695169.0\n",
       "8   2023   ASIA-PACIFIC      1721135.0\n",
       "9   2023          CHINA      3457517.0\n",
       "10  2023         EUROPE      3460195.0\n",
       "11  2023  LATIN AMERICA      1693693.0\n",
       "12  2023    MIDDLE EAST      1681687.0\n",
       "13  2023  NORTH AMERICA      5395752.0\n",
       "14  2024         AFRICA      1819989.0\n",
       "15  2024   ASIA-PACIFIC      1976635.0\n",
       "16  2024          CHINA      3811222.0\n",
       "17  2024         EUROPE      3397757.0\n",
       "18  2024  LATIN AMERICA      1999291.0\n",
       "19  2024    MIDDLE EAST      1918244.0\n",
       "20  2024  NORTH AMERICA      5637005.0"
      ]
     },
     "metadata": {},
     "output_type": "display_data"
    }
   ],
   "source": [
    "process_message(\"What is the revenue for all regions? Include the year.\")"
   ]
  },
  {
   "cell_type": "code",
   "execution_count": 74,
   "metadata": {},
   "outputs": [
    {
     "data": {
      "text/html": [
       "<span style='color: green;font-weight: bold;font-size: medium;'>Executing function tool call</span> <span style='color: blue;font-weight: bold;font-size: medium;'></span>"
      ],
      "text/plain": [
       "<IPython.core.display.HTML object>"
      ]
     },
     "metadata": {},
     "output_type": "display_data"
    },
    {
     "data": {
      "text/html": [
       "<span style='color: green;font-weight: bold;font-size: medium;'>Function Name:</span> <span style='color: blue;font-weight: bold;font-size: medium;'>fetch_sales_data_using_sqlite_query</span>"
      ],
      "text/plain": [
       "<IPython.core.display.HTML object>"
      ]
     },
     "metadata": {},
     "output_type": "display_data"
    },
    {
     "data": {
      "text/html": [
       "<span style='color: green;font-weight: bold;font-size: medium;'>Arguments:</span> <span style='color: blue;font-weight: bold;font-size: medium;'>{'query': 'SELECT SUM(revenue) AS total_revenue, SUM(shipping_cost) AS total_shipping_cost, SUM(number_of_orders) AS total_orders FROM sales_data WHERE year = 2023 AND month = 4;'}</span>"
      ],
      "text/plain": [
       "<IPython.core.display.HTML object>"
      ]
     },
     "metadata": {},
     "output_type": "display_data"
    },
    {
     "data": {
      "text/html": [
       "<div>\n",
       "<style scoped>\n",
       "    .dataframe tbody tr th:only-of-type {\n",
       "        vertical-align: middle;\n",
       "    }\n",
       "\n",
       "    .dataframe tbody tr th {\n",
       "        vertical-align: top;\n",
       "    }\n",
       "\n",
       "    .dataframe thead th {\n",
       "        text-align: right;\n",
       "    }\n",
       "</style>\n",
       "<table border=\"1\" class=\"dataframe\">\n",
       "  <thead>\n",
       "    <tr style=\"text-align: right;\">\n",
       "      <th></th>\n",
       "      <th>total_revenue</th>\n",
       "      <th>total_shipping_cost</th>\n",
       "      <th>total_orders</th>\n",
       "    </tr>\n",
       "  </thead>\n",
       "  <tbody>\n",
       "    <tr>\n",
       "      <th>0</th>\n",
       "      <td>1713964.0</td>\n",
       "      <td>261259.47</td>\n",
       "      <td>11541</td>\n",
       "    </tr>\n",
       "  </tbody>\n",
       "</table>\n",
       "</div>"
      ],
      "text/plain": [
       "   total_revenue  total_shipping_cost  total_orders\n",
       "0      1713964.0            261259.47         11541"
      ]
     },
     "metadata": {},
     "output_type": "display_data"
    }
   ],
   "source": [
    "process_message(\"What were the sales for April 2023?\")"
   ]
  },
  {
   "cell_type": "code",
   "execution_count": 75,
   "metadata": {},
   "outputs": [
    {
     "data": {
      "text/html": [
       "<pre style=\"white-space: pre-wrap; word-wrap: break-word;\">I can't answer that question. Please contact IT for more assistance.</pre>"
      ],
      "text/plain": [
       "<IPython.core.display.HTML object>"
      ]
     },
     "metadata": {},
     "output_type": "display_data"
    }
   ],
   "source": [
    "process_message(\"What is the meaning of life?\")"
   ]
  },
  {
   "cell_type": "code",
   "execution_count": 76,
   "metadata": {},
   "outputs": [
    {
     "name": "stdout",
     "output_type": "stream",
     "text": [
      "Database connection closed.\n"
     ]
    }
   ],
   "source": [
    "sales_data.close()"
   ]
  },
  {
   "cell_type": "markdown",
   "metadata": {},
   "source": []
  }
 ],
 "metadata": {
  "kernelspec": {
   "display_name": "Python 3",
   "language": "python",
   "name": "python3"
  },
  "language_info": {
   "codemirror_mode": {
    "name": "ipython",
    "version": 3
   },
   "file_extension": ".py",
   "mimetype": "text/x-python",
   "name": "python",
   "nbconvert_exporter": "python",
   "pygments_lexer": "ipython3",
   "version": "3.12.8"
  }
 },
 "nbformat": 4,
 "nbformat_minor": 4
}
